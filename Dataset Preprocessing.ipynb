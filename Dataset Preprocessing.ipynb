{
 "cells": [
  {
   "cell_type": "code",
   "execution_count": 33,
   "metadata": {},
   "outputs": [],
   "source": [
    "import pandas as pd\n",
    "import numpy as np\n",
    "import matplotlib.pyplot as plt\n",
    "import seaborn as sns\n",
    "from sklearn.preprocessing import LabelEncoder\n",
    "\n",
    "pd.set_option('display.float_format', lambda x: '%.3f' % x)"
   ]
  },
  {
   "cell_type": "markdown",
   "metadata": {},
   "source": [
    "#### Load Dataset"
   ]
  },
  {
   "cell_type": "code",
   "execution_count": 3,
   "metadata": {},
   "outputs": [
    {
     "name": "stdout",
     "output_type": "stream",
     "text": [
      "Dataset shape: (1216250, 9)\n"
     ]
    },
    {
     "data": {
      "text/html": [
       "<div>\n",
       "<style scoped>\n",
       "    .dataframe tbody tr th:only-of-type {\n",
       "        vertical-align: middle;\n",
       "    }\n",
       "\n",
       "    .dataframe tbody tr th {\n",
       "        vertical-align: top;\n",
       "    }\n",
       "\n",
       "    .dataframe thead th {\n",
       "        text-align: right;\n",
       "    }\n",
       "</style>\n",
       "<table border=\"1\" class=\"dataframe\">\n",
       "  <thead>\n",
       "    <tr style=\"text-align: right;\">\n",
       "      <th></th>\n",
       "      <th>Id</th>\n",
       "      <th>Price</th>\n",
       "      <th>Year</th>\n",
       "      <th>Mileage</th>\n",
       "      <th>City</th>\n",
       "      <th>State</th>\n",
       "      <th>Vin</th>\n",
       "      <th>Make</th>\n",
       "      <th>Model</th>\n",
       "    </tr>\n",
       "  </thead>\n",
       "  <tbody>\n",
       "    <tr>\n",
       "      <th>0</th>\n",
       "      <td>1</td>\n",
       "      <td>16472</td>\n",
       "      <td>2015</td>\n",
       "      <td>18681</td>\n",
       "      <td>Jefferson City</td>\n",
       "      <td>MO</td>\n",
       "      <td>KL4CJBSBXFB267643</td>\n",
       "      <td>Buick</td>\n",
       "      <td>EncoreConvenience</td>\n",
       "    </tr>\n",
       "    <tr>\n",
       "      <th>1</th>\n",
       "      <td>2</td>\n",
       "      <td>15749</td>\n",
       "      <td>2015</td>\n",
       "      <td>27592</td>\n",
       "      <td>Highland</td>\n",
       "      <td>IN</td>\n",
       "      <td>KL4CJASB5FB245057</td>\n",
       "      <td>Buick</td>\n",
       "      <td>EncoreFWD</td>\n",
       "    </tr>\n",
       "    <tr>\n",
       "      <th>2</th>\n",
       "      <td>3</td>\n",
       "      <td>16998</td>\n",
       "      <td>2015</td>\n",
       "      <td>13650</td>\n",
       "      <td>Boone</td>\n",
       "      <td>NC</td>\n",
       "      <td>KL4CJCSB0FB264921</td>\n",
       "      <td>Buick</td>\n",
       "      <td>EncoreLeather</td>\n",
       "    </tr>\n",
       "    <tr>\n",
       "      <th>3</th>\n",
       "      <td>4</td>\n",
       "      <td>15777</td>\n",
       "      <td>2015</td>\n",
       "      <td>25195</td>\n",
       "      <td>New Orleans</td>\n",
       "      <td>LA</td>\n",
       "      <td>KL4CJASB4FB217542</td>\n",
       "      <td>Buick</td>\n",
       "      <td>EncoreFWD</td>\n",
       "    </tr>\n",
       "    <tr>\n",
       "      <th>4</th>\n",
       "      <td>5</td>\n",
       "      <td>16784</td>\n",
       "      <td>2015</td>\n",
       "      <td>22800</td>\n",
       "      <td>Las Vegas</td>\n",
       "      <td>NV</td>\n",
       "      <td>KL4CJBSB3FB166881</td>\n",
       "      <td>Buick</td>\n",
       "      <td>EncoreConvenience</td>\n",
       "    </tr>\n",
       "  </tbody>\n",
       "</table>\n",
       "</div>"
      ],
      "text/plain": [
       "   Id  Price  Year  Mileage            City State                Vin   Make  \\\n",
       "0   1  16472  2015    18681  Jefferson City    MO  KL4CJBSBXFB267643  Buick   \n",
       "1   2  15749  2015    27592        Highland    IN  KL4CJASB5FB245057  Buick   \n",
       "2   3  16998  2015    13650           Boone    NC  KL4CJCSB0FB264921  Buick   \n",
       "3   4  15777  2015    25195     New Orleans    LA  KL4CJASB4FB217542  Buick   \n",
       "4   5  16784  2015    22800       Las Vegas    NV  KL4CJBSB3FB166881  Buick   \n",
       "\n",
       "               Model  \n",
       "0  EncoreConvenience  \n",
       "1          EncoreFWD  \n",
       "2      EncoreLeather  \n",
       "3          EncoreFWD  \n",
       "4  EncoreConvenience  "
      ]
     },
     "execution_count": 3,
     "metadata": {},
     "output_type": "execute_result"
    }
   ],
   "source": [
    "df = pd.read_csv('tc20171021.csv', error_bad_lines=False, warn_bad_lines=False)\n",
    "print(f'Dataset shape: {df.shape}')\n",
    "df.head()"
   ]
  },
  {
   "cell_type": "markdown",
   "metadata": {},
   "source": [
    "#### Print Some Basic Info"
   ]
  },
  {
   "cell_type": "code",
   "execution_count": 4,
   "metadata": {
    "scrolled": true
   },
   "outputs": [
    {
     "name": "stdout",
     "output_type": "stream",
     "text": [
      "<class 'pandas.core.frame.DataFrame'>\n",
      "RangeIndex: 1216250 entries, 0 to 1216249\n",
      "Data columns (total 9 columns):\n",
      "Id         1216250 non-null int64\n",
      "Price      1216250 non-null int64\n",
      "Year       1216250 non-null int64\n",
      "Mileage    1216250 non-null int64\n",
      "City       1216250 non-null object\n",
      "State      1216250 non-null object\n",
      "Vin        1216250 non-null object\n",
      "Make       1216250 non-null object\n",
      "Model      1216250 non-null object\n",
      "dtypes: int64(4), object(5)\n",
      "memory usage: 83.5+ MB\n",
      "\n",
      "Conclusion: There is no null value in the data\n"
     ]
    }
   ],
   "source": [
    "df.info()\n",
    "print('\\nConclusion: There is no null value in the data')"
   ]
  },
  {
   "cell_type": "code",
   "execution_count": 6,
   "metadata": {},
   "outputs": [
    {
     "data": {
      "text/html": [
       "<div>\n",
       "<style scoped>\n",
       "    .dataframe tbody tr th:only-of-type {\n",
       "        vertical-align: middle;\n",
       "    }\n",
       "\n",
       "    .dataframe tbody tr th {\n",
       "        vertical-align: top;\n",
       "    }\n",
       "\n",
       "    .dataframe thead th {\n",
       "        text-align: right;\n",
       "    }\n",
       "</style>\n",
       "<table border=\"1\" class=\"dataframe\">\n",
       "  <thead>\n",
       "    <tr style=\"text-align: right;\">\n",
       "      <th></th>\n",
       "      <th>Id</th>\n",
       "      <th>Price</th>\n",
       "      <th>Year</th>\n",
       "      <th>Mileage</th>\n",
       "    </tr>\n",
       "  </thead>\n",
       "  <tbody>\n",
       "    <tr>\n",
       "      <th>count</th>\n",
       "      <td>1216250.000</td>\n",
       "      <td>1216250.000</td>\n",
       "      <td>1216250.000</td>\n",
       "      <td>1216250.000</td>\n",
       "    </tr>\n",
       "    <tr>\n",
       "      <th>mean</th>\n",
       "      <td>613281.414</td>\n",
       "      <td>20968.871</td>\n",
       "      <td>2013.307</td>\n",
       "      <td>52908.102</td>\n",
       "    </tr>\n",
       "    <tr>\n",
       "      <th>std</th>\n",
       "      <td>354657.101</td>\n",
       "      <td>13159.402</td>\n",
       "      <td>3.442</td>\n",
       "      <td>81927.749</td>\n",
       "    </tr>\n",
       "    <tr>\n",
       "      <th>min</th>\n",
       "      <td>1.000</td>\n",
       "      <td>1500.000</td>\n",
       "      <td>1997.000</td>\n",
       "      <td>5.000</td>\n",
       "    </tr>\n",
       "    <tr>\n",
       "      <th>25%</th>\n",
       "      <td>308112.250</td>\n",
       "      <td>12994.000</td>\n",
       "      <td>2012.000</td>\n",
       "      <td>23962.000</td>\n",
       "    </tr>\n",
       "    <tr>\n",
       "      <th>50%</th>\n",
       "      <td>613491.500</td>\n",
       "      <td>17995.000</td>\n",
       "      <td>2014.000</td>\n",
       "      <td>40534.000</td>\n",
       "    </tr>\n",
       "    <tr>\n",
       "      <th>75%</th>\n",
       "      <td>917553.750</td>\n",
       "      <td>26414.000</td>\n",
       "      <td>2016.000</td>\n",
       "      <td>72725.000</td>\n",
       "    </tr>\n",
       "    <tr>\n",
       "      <th>max</th>\n",
       "      <td>1233042.000</td>\n",
       "      <td>499500.000</td>\n",
       "      <td>2018.000</td>\n",
       "      <td>77587763.000</td>\n",
       "    </tr>\n",
       "  </tbody>\n",
       "</table>\n",
       "</div>"
      ],
      "text/plain": [
       "               Id       Price        Year      Mileage\n",
       "count 1216250.000 1216250.000 1216250.000  1216250.000\n",
       "mean   613281.414   20968.871    2013.307    52908.102\n",
       "std    354657.101   13159.402       3.442    81927.749\n",
       "min         1.000    1500.000    1997.000        5.000\n",
       "25%    308112.250   12994.000    2012.000    23962.000\n",
       "50%    613491.500   17995.000    2014.000    40534.000\n",
       "75%    917553.750   26414.000    2016.000    72725.000\n",
       "max   1233042.000  499500.000    2018.000 77587763.000"
      ]
     },
     "metadata": {},
     "output_type": "display_data"
    },
    {
     "data": {
      "image/png": "[encoded data removed]",
      "text/plain": [
       "<Figure size 432x288 with 4 Axes>"
      ]
     },
     "metadata": {
      "needs_background": "light"
     },
     "output_type": "display_data"
    },
    {
     "name": "stdout",
     "output_type": "stream",
     "text": [
      "Conclusion: Mileage and Price is highly right skewed\n"
     ]
    }
   ],
   "source": [
    "display(df.describe())\n",
    "df.hist()\n",
    "plt.show()\n",
    "\n",
    "print(f'Conclusion: Mileage and Price is highly right skewed')"
   ]
  },
  {
   "cell_type": "markdown",
   "metadata": {},
   "source": [
    "#### Correlation Analysis"
   ]
  },
  {
   "cell_type": "code",
   "execution_count": 7,
   "metadata": {
    "scrolled": true
   },
   "outputs": [
    {
     "data": {
      "text/html": [
       "<style  type=\"text/css\" >\n",
       "    #T_85bed86c_8244_11ea_ab3d_00f48dba4e11row0_col0 {\n",
       "            background-color:  #b40426;\n",
       "            color:  #f1f1f1;\n",
       "        }    #T_85bed86c_8244_11ea_ab3d_00f48dba4e11row0_col1 {\n",
       "            background-color:  #6e90f2;\n",
       "            color:  #000000;\n",
       "        }    #T_85bed86c_8244_11ea_ab3d_00f48dba4e11row0_col2 {\n",
       "            background-color:  #a1c0ff;\n",
       "            color:  #000000;\n",
       "        }    #T_85bed86c_8244_11ea_ab3d_00f48dba4e11row0_col3 {\n",
       "            background-color:  #94b6ff;\n",
       "            color:  #000000;\n",
       "        }    #T_85bed86c_8244_11ea_ab3d_00f48dba4e11row1_col0 {\n",
       "            background-color:  #3b4cc0;\n",
       "            color:  #f1f1f1;\n",
       "        }    #T_85bed86c_8244_11ea_ab3d_00f48dba4e11row1_col1 {\n",
       "            background-color:  #b40426;\n",
       "            color:  #f1f1f1;\n",
       "        }    #T_85bed86c_8244_11ea_ab3d_00f48dba4e11row1_col2 {\n",
       "            background-color:  #edd1c2;\n",
       "            color:  #000000;\n",
       "        }    #T_85bed86c_8244_11ea_ab3d_00f48dba4e11row1_col3 {\n",
       "            background-color:  #6384eb;\n",
       "            color:  #000000;\n",
       "        }    #T_85bed86c_8244_11ea_ab3d_00f48dba4e11row2_col0 {\n",
       "            background-color:  #4961d2;\n",
       "            color:  #f1f1f1;\n",
       "        }    #T_85bed86c_8244_11ea_ab3d_00f48dba4e11row2_col1 {\n",
       "            background-color:  #dfdbd9;\n",
       "            color:  #000000;\n",
       "        }    #T_85bed86c_8244_11ea_ab3d_00f48dba4e11row2_col2 {\n",
       "            background-color:  #b40426;\n",
       "            color:  #f1f1f1;\n",
       "        }    #T_85bed86c_8244_11ea_ab3d_00f48dba4e11row2_col3 {\n",
       "            background-color:  #3b4cc0;\n",
       "            color:  #f1f1f1;\n",
       "        }    #T_85bed86c_8244_11ea_ab3d_00f48dba4e11row3_col0 {\n",
       "            background-color:  #3b4cc0;\n",
       "            color:  #f1f1f1;\n",
       "        }    #T_85bed86c_8244_11ea_ab3d_00f48dba4e11row3_col1 {\n",
       "            background-color:  #3b4cc0;\n",
       "            color:  #f1f1f1;\n",
       "        }    #T_85bed86c_8244_11ea_ab3d_00f48dba4e11row3_col2 {\n",
       "            background-color:  #3b4cc0;\n",
       "            color:  #f1f1f1;\n",
       "        }    #T_85bed86c_8244_11ea_ab3d_00f48dba4e11row3_col3 {\n",
       "            background-color:  #b40426;\n",
       "            color:  #f1f1f1;\n",
       "        }</style><table id=\"T_85bed86c_8244_11ea_ab3d_00f48dba4e11\" ><thead>    <tr>        <th class=\"blank level0\" ></th>        <th class=\"col_heading level0 col0\" >Id</th>        <th class=\"col_heading level0 col1\" >Price</th>        <th class=\"col_heading level0 col2\" >Year</th>        <th class=\"col_heading level0 col3\" >Mileage</th>    </tr></thead><tbody>\n",
       "                <tr>\n",
       "                        <th id=\"T_85bed86c_8244_11ea_ab3d_00f48dba4e11level0_row0\" class=\"row_heading level0 row0\" >Id</th>\n",
       "                        <td id=\"T_85bed86c_8244_11ea_ab3d_00f48dba4e11row0_col0\" class=\"data row0 col0\" >1</td>\n",
       "                        <td id=\"T_85bed86c_8244_11ea_ab3d_00f48dba4e11row0_col1\" class=\"data row0 col1\" >-0.0138392</td>\n",
       "                        <td id=\"T_85bed86c_8244_11ea_ab3d_00f48dba4e11row0_col2\" class=\"data row0 col2\" >0.0349883</td>\n",
       "                        <td id=\"T_85bed86c_8244_11ea_ab3d_00f48dba4e11row0_col3\" class=\"data row0 col3\" >-0.012833</td>\n",
       "            </tr>\n",
       "            <tr>\n",
       "                        <th id=\"T_85bed86c_8244_11ea_ab3d_00f48dba4e11level0_row1\" class=\"row_heading level0 row1\" >Price</th>\n",
       "                        <td id=\"T_85bed86c_8244_11ea_ab3d_00f48dba4e11row1_col0\" class=\"data row1 col0\" >-0.0138392</td>\n",
       "                        <td id=\"T_85bed86c_8244_11ea_ab3d_00f48dba4e11row1_col1\" class=\"data row1 col1\" >1</td>\n",
       "                        <td id=\"T_85bed86c_8244_11ea_ab3d_00f48dba4e11row1_col2\" class=\"data row1 col2\" >0.405673</td>\n",
       "                        <td id=\"T_85bed86c_8244_11ea_ab3d_00f48dba4e11row1_col3\" class=\"data row1 col3\" >-0.212439</td>\n",
       "            </tr>\n",
       "            <tr>\n",
       "                        <th id=\"T_85bed86c_8244_11ea_ab3d_00f48dba4e11level0_row2\" class=\"row_heading level0 row2\" >Year</th>\n",
       "                        <td id=\"T_85bed86c_8244_11ea_ab3d_00f48dba4e11row2_col0\" class=\"data row2 col0\" >0.0349883</td>\n",
       "                        <td id=\"T_85bed86c_8244_11ea_ab3d_00f48dba4e11row2_col1\" class=\"data row2 col1\" >0.405673</td>\n",
       "                        <td id=\"T_85bed86c_8244_11ea_ab3d_00f48dba4e11row2_col2\" class=\"data row2 col2\" >1</td>\n",
       "                        <td id=\"T_85bed86c_8244_11ea_ab3d_00f48dba4e11row2_col3\" class=\"data row2 col3\" >-0.3924</td>\n",
       "            </tr>\n",
       "            <tr>\n",
       "                        <th id=\"T_85bed86c_8244_11ea_ab3d_00f48dba4e11level0_row3\" class=\"row_heading level0 row3\" >Mileage</th>\n",
       "                        <td id=\"T_85bed86c_8244_11ea_ab3d_00f48dba4e11row3_col0\" class=\"data row3 col0\" >-0.012833</td>\n",
       "                        <td id=\"T_85bed86c_8244_11ea_ab3d_00f48dba4e11row3_col1\" class=\"data row3 col1\" >-0.212439</td>\n",
       "                        <td id=\"T_85bed86c_8244_11ea_ab3d_00f48dba4e11row3_col2\" class=\"data row3 col2\" >-0.3924</td>\n",
       "                        <td id=\"T_85bed86c_8244_11ea_ab3d_00f48dba4e11row3_col3\" class=\"data row3 col3\" >1</td>\n",
       "            </tr>\n",
       "    </tbody></table>"
      ],
      "text/plain": [
       "<pandas.io.formats.style.Styler at 0x7ff39ecfebe0>"
      ]
     },
     "metadata": {},
     "output_type": "display_data"
    },
    {
     "name": "stdout",
     "output_type": "stream",
     "text": [
      "Insight: Year is positively correlated price and mileage is negatively correlated with price\n"
     ]
    }
   ],
   "source": [
    "corr = df.corr()\n",
    "display(corr.style.background_gradient(cmap='coolwarm'))\n",
    "print(f'Insight: Year is positively correlated price and mileage is negatively correlated with price')"
   ]
  },
  {
   "cell_type": "markdown",
   "metadata": {},
   "source": [
    "#### Boxplot Analysis"
   ]
  },
  {
   "cell_type": "code",
   "execution_count": 15,
   "metadata": {},
   "outputs": [
    {
     "data": {
      "image/png": "[encoded data removed]",
      "text/plain": [
       "<Figure size 432x288 with 1 Axes>"
      ]
     },
     "metadata": {
      "needs_background": "light"
     },
     "output_type": "display_data"
    },
    {
     "name": "stdout",
     "output_type": "stream",
     "text": [
      "Boxplot for price attribute\n"
     ]
    }
   ],
   "source": [
    "sns.boxplot(x=df['Price']).set_title(\"Price Boxplot\")\n",
    "plt.show()\n",
    "print('Boxplot for price attribute')"
   ]
  },
  {
   "cell_type": "code",
   "execution_count": 51,
   "metadata": {},
   "outputs": [
    {
     "data": {
      "image/png": "[encoded data removed]",
      "text/plain": [
       "<Figure size 432x288 with 1 Axes>"
      ]
     },
     "metadata": {
      "needs_background": "light"
     },
     "output_type": "display_data"
    },
    {
     "name": "stdout",
     "output_type": "stream",
     "text": [
      "Boxplot for Mileage attribute\n"
     ]
    }
   ],
   "source": [
    "sns.boxplot(x=df['Mileage']).set_title(\"Mileage Boxplot\")\n",
    "plt.show()\n",
    "print('Boxplot for Mileage attribute')"
   ]
  },
  {
   "cell_type": "code",
   "execution_count": 17,
   "metadata": {},
   "outputs": [
    {
     "data": {
      "image/png": "[encoded data removed]",
      "text/plain": [
       "<Figure size 432x288 with 1 Axes>"
      ]
     },
     "metadata": {
      "needs_background": "light"
     },
     "output_type": "display_data"
    },
    {
     "name": "stdout",
     "output_type": "stream",
     "text": [
      "Boxplot for Mileage attribute\n"
     ]
    }
   ],
   "source": [
    "sns.boxplot(x=df['Year']).set_title(\"Price Boxplot\")\n",
    "plt.show()\n",
    "print('Boxplot for Mileage attribute')"
   ]
  },
  {
   "cell_type": "markdown",
   "metadata": {},
   "source": [
    "#### Preprocessing"
   ]
  },
  {
   "cell_type": "code",
   "execution_count": 23,
   "metadata": {},
   "outputs": [],
   "source": [
    "df_modified = df.copy()"
   ]
  },
  {
   "cell_type": "markdown",
   "metadata": {},
   "source": [
    "##### Change all text to lower case"
   ]
  },
  {
   "cell_type": "code",
   "execution_count": 24,
   "metadata": {},
   "outputs": [
    {
     "data": {
      "text/html": [
       "<div>\n",
       "<style scoped>\n",
       "    .dataframe tbody tr th:only-of-type {\n",
       "        vertical-align: middle;\n",
       "    }\n",
       "\n",
       "    .dataframe tbody tr th {\n",
       "        vertical-align: top;\n",
       "    }\n",
       "\n",
       "    .dataframe thead th {\n",
       "        text-align: right;\n",
       "    }\n",
       "</style>\n",
       "<table border=\"1\" class=\"dataframe\">\n",
       "  <thead>\n",
       "    <tr style=\"text-align: right;\">\n",
       "      <th></th>\n",
       "      <th>Id</th>\n",
       "      <th>Price</th>\n",
       "      <th>Year</th>\n",
       "      <th>Mileage</th>\n",
       "      <th>City</th>\n",
       "      <th>State</th>\n",
       "      <th>Vin</th>\n",
       "      <th>Make</th>\n",
       "      <th>Model</th>\n",
       "    </tr>\n",
       "  </thead>\n",
       "  <tbody>\n",
       "    <tr>\n",
       "      <th>0</th>\n",
       "      <td>1</td>\n",
       "      <td>16472</td>\n",
       "      <td>2015</td>\n",
       "      <td>18681</td>\n",
       "      <td>jefferson city</td>\n",
       "      <td>mo</td>\n",
       "      <td>kl4cjbsbxfb267643</td>\n",
       "      <td>buick</td>\n",
       "      <td>encoreconvenience</td>\n",
       "    </tr>\n",
       "    <tr>\n",
       "      <th>1</th>\n",
       "      <td>2</td>\n",
       "      <td>15749</td>\n",
       "      <td>2015</td>\n",
       "      <td>27592</td>\n",
       "      <td>highland</td>\n",
       "      <td>in</td>\n",
       "      <td>kl4cjasb5fb245057</td>\n",
       "      <td>buick</td>\n",
       "      <td>encorefwd</td>\n",
       "    </tr>\n",
       "    <tr>\n",
       "      <th>2</th>\n",
       "      <td>3</td>\n",
       "      <td>16998</td>\n",
       "      <td>2015</td>\n",
       "      <td>13650</td>\n",
       "      <td>boone</td>\n",
       "      <td>nc</td>\n",
       "      <td>kl4cjcsb0fb264921</td>\n",
       "      <td>buick</td>\n",
       "      <td>encoreleather</td>\n",
       "    </tr>\n",
       "    <tr>\n",
       "      <th>3</th>\n",
       "      <td>4</td>\n",
       "      <td>15777</td>\n",
       "      <td>2015</td>\n",
       "      <td>25195</td>\n",
       "      <td>new orleans</td>\n",
       "      <td>la</td>\n",
       "      <td>kl4cjasb4fb217542</td>\n",
       "      <td>buick</td>\n",
       "      <td>encorefwd</td>\n",
       "    </tr>\n",
       "    <tr>\n",
       "      <th>4</th>\n",
       "      <td>5</td>\n",
       "      <td>16784</td>\n",
       "      <td>2015</td>\n",
       "      <td>22800</td>\n",
       "      <td>las vegas</td>\n",
       "      <td>nv</td>\n",
       "      <td>kl4cjbsb3fb166881</td>\n",
       "      <td>buick</td>\n",
       "      <td>encoreconvenience</td>\n",
       "    </tr>\n",
       "  </tbody>\n",
       "</table>\n",
       "</div>"
      ],
      "text/plain": [
       "   Id  Price  Year  Mileage            City State                Vin   Make  \\\n",
       "0   1  16472  2015    18681  jefferson city    mo  kl4cjbsbxfb267643  buick   \n",
       "1   2  15749  2015    27592        highland    in  kl4cjasb5fb245057  buick   \n",
       "2   3  16998  2015    13650           boone    nc  kl4cjcsb0fb264921  buick   \n",
       "3   4  15777  2015    25195     new orleans    la  kl4cjasb4fb217542  buick   \n",
       "4   5  16784  2015    22800       las vegas    nv  kl4cjbsb3fb166881  buick   \n",
       "\n",
       "               Model  \n",
       "0  encoreconvenience  \n",
       "1          encorefwd  \n",
       "2      encoreleather  \n",
       "3          encorefwd  \n",
       "4  encoreconvenience  "
      ]
     },
     "execution_count": 24,
     "metadata": {},
     "output_type": "execute_result"
    }
   ],
   "source": [
    "str_columns = df_modified.select_dtypes(include=['object']).columns\n",
    "for col in str_columns:\n",
    "    df_modified[col] = df_modified[col].str.lower()\n",
    "\n",
    "df_modified.head()"
   ]
  },
  {
   "cell_type": "markdown",
   "metadata": {},
   "source": [
    "##### Removing Outliers\n",
    "\n",
    "Removing top and bottom 2.5% of Mileage and Price data"
   ]
  },
  {
   "cell_type": "code",
   "execution_count": 25,
   "metadata": {},
   "outputs": [
    {
     "data": {
      "text/plain": [
       "(1094626, 9)"
      ]
     },
     "metadata": {},
     "output_type": "display_data"
    },
    {
     "data": {
      "text/html": [
       "<div>\n",
       "<style scoped>\n",
       "    .dataframe tbody tr th:only-of-type {\n",
       "        vertical-align: middle;\n",
       "    }\n",
       "\n",
       "    .dataframe tbody tr th {\n",
       "        vertical-align: top;\n",
       "    }\n",
       "\n",
       "    .dataframe thead th {\n",
       "        text-align: right;\n",
       "    }\n",
       "</style>\n",
       "<table border=\"1\" class=\"dataframe\">\n",
       "  <thead>\n",
       "    <tr style=\"text-align: right;\">\n",
       "      <th></th>\n",
       "      <th>Id</th>\n",
       "      <th>Price</th>\n",
       "      <th>Year</th>\n",
       "      <th>Mileage</th>\n",
       "      <th>City</th>\n",
       "      <th>State</th>\n",
       "      <th>Vin</th>\n",
       "      <th>Make</th>\n",
       "      <th>Model</th>\n",
       "    </tr>\n",
       "  </thead>\n",
       "  <tbody>\n",
       "    <tr>\n",
       "      <th>9566</th>\n",
       "      <td>9567</td>\n",
       "      <td>48945</td>\n",
       "      <td>2015</td>\n",
       "      <td>96680</td>\n",
       "      <td>gainesville</td>\n",
       "      <td>fl</td>\n",
       "      <td>1gt424e88ff524844</td>\n",
       "      <td>gmc</td>\n",
       "      <td>sierra</td>\n",
       "    </tr>\n",
       "    <tr>\n",
       "      <th>150512</th>\n",
       "      <td>150513</td>\n",
       "      <td>48945</td>\n",
       "      <td>2017</td>\n",
       "      <td>17515</td>\n",
       "      <td>madison</td>\n",
       "      <td>wi</td>\n",
       "      <td>5uxwx7c5xh0u39786</td>\n",
       "      <td>bmw</td>\n",
       "      <td>x3xdrive35i</td>\n",
       "    </tr>\n",
       "    <tr>\n",
       "      <th>20945</th>\n",
       "      <td>20946</td>\n",
       "      <td>48944</td>\n",
       "      <td>2015</td>\n",
       "      <td>53268</td>\n",
       "      <td>spring</td>\n",
       "      <td>tx</td>\n",
       "      <td>1ft7w2bt2fec22471</td>\n",
       "      <td>ford</td>\n",
       "      <td>super</td>\n",
       "    </tr>\n",
       "    <tr>\n",
       "      <th>192737</th>\n",
       "      <td>192738</td>\n",
       "      <td>48944</td>\n",
       "      <td>2016</td>\n",
       "      <td>9141</td>\n",
       "      <td>houston</td>\n",
       "      <td>tx</td>\n",
       "      <td>wauc4afh8gn009298</td>\n",
       "      <td>audi</td>\n",
       "      <td>s5cabriolet</td>\n",
       "    </tr>\n",
       "    <tr>\n",
       "      <th>702691</th>\n",
       "      <td>708058</td>\n",
       "      <td>48944</td>\n",
       "      <td>2016</td>\n",
       "      <td>31315</td>\n",
       "      <td>stafford</td>\n",
       "      <td>tx</td>\n",
       "      <td>1ftew1ef8gfa36906</td>\n",
       "      <td>ford</td>\n",
       "      <td>f-1504wd</td>\n",
       "    </tr>\n",
       "  </tbody>\n",
       "</table>\n",
       "</div>"
      ],
      "text/plain": [
       "            Id  Price  Year  Mileage         City State                Vin  \\\n",
       "9566      9567  48945  2015    96680  gainesville    fl  1gt424e88ff524844   \n",
       "150512  150513  48945  2017    17515      madison    wi  5uxwx7c5xh0u39786   \n",
       "20945    20946  48944  2015    53268       spring    tx  1ft7w2bt2fec22471   \n",
       "192737  192738  48944  2016     9141      houston    tx  wauc4afh8gn009298   \n",
       "702691  708058  48944  2016    31315     stafford    tx  1ftew1ef8gfa36906   \n",
       "\n",
       "        Make        Model  \n",
       "9566     gmc       sierra  \n",
       "150512   bmw  x3xdrive35i  \n",
       "20945   ford        super  \n",
       "192737  audi  s5cabriolet  \n",
       "702691  ford     f-1504wd  "
      ]
     },
     "execution_count": 25,
     "metadata": {},
     "output_type": "execute_result"
    }
   ],
   "source": [
    "rows = df.shape[0]\n",
    "rows_10_percent = int(rows * 0.025)\n",
    "\n",
    "\n",
    "df_modified = df_modified.sort_values(by=['Mileage'], ascending=False)[rows_10_percent:]\n",
    "df_modified = df_modified[:-rows_10_percent]\n",
    "df_modified = df_modified.sort_values(by=['Price'], ascending=False)\n",
    "df_modified = df_modified[rows_10_percent:]\n",
    "df_modified = df_modified[:-rows_10_percent]\n",
    "\n",
    "display(df_modified.shape)\n",
    "df_modified.head()"
   ]
  },
  {
   "cell_type": "markdown",
   "metadata": {},
   "source": [
    "##### Dropping Unnecessary Column"
   ]
  },
  {
   "cell_type": "code",
   "execution_count": 31,
   "metadata": {},
   "outputs": [
    {
     "data": {
      "text/html": [
       "<div>\n",
       "<style scoped>\n",
       "    .dataframe tbody tr th:only-of-type {\n",
       "        vertical-align: middle;\n",
       "    }\n",
       "\n",
       "    .dataframe tbody tr th {\n",
       "        vertical-align: top;\n",
       "    }\n",
       "\n",
       "    .dataframe thead th {\n",
       "        text-align: right;\n",
       "    }\n",
       "</style>\n",
       "<table border=\"1\" class=\"dataframe\">\n",
       "  <thead>\n",
       "    <tr style=\"text-align: right;\">\n",
       "      <th></th>\n",
       "      <th>Id</th>\n",
       "      <th>Price</th>\n",
       "      <th>Year</th>\n",
       "      <th>Mileage</th>\n",
       "      <th>Make</th>\n",
       "    </tr>\n",
       "  </thead>\n",
       "  <tbody>\n",
       "    <tr>\n",
       "      <th>9566</th>\n",
       "      <td>9567</td>\n",
       "      <td>48945</td>\n",
       "      <td>2015</td>\n",
       "      <td>96680</td>\n",
       "      <td>gmc</td>\n",
       "    </tr>\n",
       "    <tr>\n",
       "      <th>150512</th>\n",
       "      <td>150513</td>\n",
       "      <td>48945</td>\n",
       "      <td>2017</td>\n",
       "      <td>17515</td>\n",
       "      <td>bmw</td>\n",
       "    </tr>\n",
       "    <tr>\n",
       "      <th>20945</th>\n",
       "      <td>20946</td>\n",
       "      <td>48944</td>\n",
       "      <td>2015</td>\n",
       "      <td>53268</td>\n",
       "      <td>ford</td>\n",
       "    </tr>\n",
       "    <tr>\n",
       "      <th>192737</th>\n",
       "      <td>192738</td>\n",
       "      <td>48944</td>\n",
       "      <td>2016</td>\n",
       "      <td>9141</td>\n",
       "      <td>audi</td>\n",
       "    </tr>\n",
       "    <tr>\n",
       "      <th>702691</th>\n",
       "      <td>708058</td>\n",
       "      <td>48944</td>\n",
       "      <td>2016</td>\n",
       "      <td>31315</td>\n",
       "      <td>ford</td>\n",
       "    </tr>\n",
       "  </tbody>\n",
       "</table>\n",
       "</div>"
      ],
      "text/plain": [
       "            Id  Price  Year  Mileage  Make\n",
       "9566      9567  48945  2015    96680   gmc\n",
       "150512  150513  48945  2017    17515   bmw\n",
       "20945    20946  48944  2015    53268  ford\n",
       "192737  192738  48944  2016     9141  audi\n",
       "702691  708058  48944  2016    31315  ford"
      ]
     },
     "execution_count": 31,
     "metadata": {},
     "output_type": "execute_result"
    }
   ],
   "source": [
    "cols = ['Id', 'Price', 'Year', 'Mileage', 'Make']\n",
    "df_modified = df_modified[cols]\n",
    "df_modified.head()"
   ]
  },
  {
   "cell_type": "markdown",
   "metadata": {},
   "source": [
    "##### Encode Categorical Data"
   ]
  },
  {
   "cell_type": "code",
   "execution_count": 34,
   "metadata": {},
   "outputs": [
    {
     "data": {
      "text/html": [
       "<div>\n",
       "<style scoped>\n",
       "    .dataframe tbody tr th:only-of-type {\n",
       "        vertical-align: middle;\n",
       "    }\n",
       "\n",
       "    .dataframe tbody tr th {\n",
       "        vertical-align: top;\n",
       "    }\n",
       "\n",
       "    .dataframe thead th {\n",
       "        text-align: right;\n",
       "    }\n",
       "</style>\n",
       "<table border=\"1\" class=\"dataframe\">\n",
       "  <thead>\n",
       "    <tr style=\"text-align: right;\">\n",
       "      <th></th>\n",
       "      <th>Id</th>\n",
       "      <th>Price</th>\n",
       "      <th>Year</th>\n",
       "      <th>Mileage</th>\n",
       "      <th>Make</th>\n",
       "      <th>Make_Encoded</th>\n",
       "    </tr>\n",
       "  </thead>\n",
       "  <tbody>\n",
       "    <tr>\n",
       "      <th>9566</th>\n",
       "      <td>9567</td>\n",
       "      <td>48945</td>\n",
       "      <td>2015</td>\n",
       "      <td>96680</td>\n",
       "      <td>gmc</td>\n",
       "      <td>18</td>\n",
       "    </tr>\n",
       "    <tr>\n",
       "      <th>150512</th>\n",
       "      <td>150513</td>\n",
       "      <td>48945</td>\n",
       "      <td>2017</td>\n",
       "      <td>17515</td>\n",
       "      <td>bmw</td>\n",
       "      <td>6</td>\n",
       "    </tr>\n",
       "    <tr>\n",
       "      <th>20945</th>\n",
       "      <td>20946</td>\n",
       "      <td>48944</td>\n",
       "      <td>2015</td>\n",
       "      <td>53268</td>\n",
       "      <td>ford</td>\n",
       "      <td>14</td>\n",
       "    </tr>\n",
       "    <tr>\n",
       "      <th>192737</th>\n",
       "      <td>192738</td>\n",
       "      <td>48944</td>\n",
       "      <td>2016</td>\n",
       "      <td>9141</td>\n",
       "      <td>audi</td>\n",
       "      <td>4</td>\n",
       "    </tr>\n",
       "    <tr>\n",
       "      <th>702691</th>\n",
       "      <td>708058</td>\n",
       "      <td>48944</td>\n",
       "      <td>2016</td>\n",
       "      <td>31315</td>\n",
       "      <td>ford</td>\n",
       "      <td>14</td>\n",
       "    </tr>\n",
       "  </tbody>\n",
       "</table>\n",
       "</div>"
      ],
      "text/plain": [
       "            Id  Price  Year  Mileage  Make  Make_Encoded\n",
       "9566      9567  48945  2015    96680   gmc            18\n",
       "150512  150513  48945  2017    17515   bmw             6\n",
       "20945    20946  48944  2015    53268  ford            14\n",
       "192737  192738  48944  2016     9141  audi             4\n",
       "702691  708058  48944  2016    31315  ford            14"
      ]
     },
     "execution_count": 34,
     "metadata": {},
     "output_type": "execute_result"
    }
   ],
   "source": [
    "lb_make = LabelEncoder()\n",
    "df_modified['Make_Encoded'] = lb_make.fit_transform(df_modified['Make'])\n",
    "df_modified.head()"
   ]
  },
  {
   "cell_type": "markdown",
   "metadata": {},
   "source": [
    "#### Comparison"
   ]
  },
  {
   "cell_type": "markdown",
   "metadata": {},
   "source": [
    "##### Data Shape"
   ]
  },
  {
   "cell_type": "code",
   "execution_count": 36,
   "metadata": {},
   "outputs": [
    {
     "name": "stdout",
     "output_type": "stream",
     "text": [
      "DataFrame shape before data preparation: (1216250, 9)\n",
      "DataFrame shape after data preparation: (1094626, 6)\n"
     ]
    }
   ],
   "source": [
    "print(f'DataFrame shape before data preparation: {df.shape}')\n",
    "print(f'DataFrame shape after data preparation: {df_modified.shape}')"
   ]
  },
  {
   "cell_type": "markdown",
   "metadata": {},
   "source": [
    "##### Histogram"
   ]
  },
  {
   "cell_type": "code",
   "execution_count": 50,
   "metadata": {},
   "outputs": [
    {
     "data": {
      "image/png": "[encoded data removed]",
      "text/plain": [
       "<Figure size 1080x720 with 4 Axes>"
      ]
     },
     "metadata": {
      "needs_background": "light"
     },
     "output_type": "display_data"
    },
    {
     "data": {
      "image/png": "[encoded data removed]",
      "text/plain": [
       "<Figure size 1080x720 with 4 Axes>"
      ]
     },
     "metadata": {
      "needs_background": "light"
     },
     "output_type": "display_data"
    }
   ],
   "source": [
    "df[['Price', 'Mileage', 'Year']].hist(figsize=(15, 10))\n",
    "plt.show()\n",
    "df_modified[['Price', 'Mileage', 'Year', 'Make_Encoded']].hist(figsize=(15, 10), color='red')\n",
    "plt.show()"
   ]
  },
  {
   "cell_type": "markdown",
   "metadata": {},
   "source": [
    "##### Boxplot for each attribute"
   ]
  },
  {
   "cell_type": "code",
   "execution_count": 43,
   "metadata": {},
   "outputs": [
    {
     "data": {
      "image/png": "[encoded data removed]",
      "text/plain": [
       "<Figure size 432x288 with 1 Axes>"
      ]
     },
     "metadata": {
      "needs_background": "light"
     },
     "output_type": "display_data"
    },
    {
     "name": "stdout",
     "output_type": "stream",
     "text": [
      "Boxplot for Price attribute\n"
     ]
    }
   ],
   "source": [
    "sns.boxplot(x=df_modified['Price']).set_title(\"Price Boxplot\")\n",
    "plt.show()\n",
    "print('Boxplot for Price attribute')"
   ]
  },
  {
   "cell_type": "code",
   "execution_count": 52,
   "metadata": {},
   "outputs": [
    {
     "data": {
      "image/png": "[encoded data removed]",
      "text/plain": [
       "<Figure size 432x288 with 1 Axes>"
      ]
     },
     "metadata": {
      "needs_background": "light"
     },
     "output_type": "display_data"
    },
    {
     "name": "stdout",
     "output_type": "stream",
     "text": [
      "Boxplot for Mileage attribute\n"
     ]
    }
   ],
   "source": [
    "sns.boxplot(x=df_modified['Mileage']).set_title(\"Mileage Boxplot\")\n",
    "plt.show()\n",
    "print('Boxplot for Mileage attribute')"
   ]
  },
  {
   "cell_type": "markdown",
   "metadata": {},
   "source": [
    "##### Correlation"
   ]
  },
  {
   "cell_type": "code",
   "execution_count": 54,
   "metadata": {},
   "outputs": [
    {
     "name": "stdout",
     "output_type": "stream",
     "text": [
      "Correlation from original data\n"
     ]
    },
    {
     "data": {
      "text/html": [
       "<style  type=\"text/css\" >\n",
       "    #T_97c52b34_8248_11ea_ab3d_00f48dba4e11row0_col0 {\n",
       "            background-color:  #b40426;\n",
       "            color:  #f1f1f1;\n",
       "        }    #T_97c52b34_8248_11ea_ab3d_00f48dba4e11row0_col1 {\n",
       "            background-color:  #6384eb;\n",
       "            color:  #000000;\n",
       "        }    #T_97c52b34_8248_11ea_ab3d_00f48dba4e11row0_col2 {\n",
       "            background-color:  #edd1c2;\n",
       "            color:  #000000;\n",
       "        }    #T_97c52b34_8248_11ea_ab3d_00f48dba4e11row1_col0 {\n",
       "            background-color:  #3b4cc0;\n",
       "            color:  #f1f1f1;\n",
       "        }    #T_97c52b34_8248_11ea_ab3d_00f48dba4e11row1_col1 {\n",
       "            background-color:  #b40426;\n",
       "            color:  #f1f1f1;\n",
       "        }    #T_97c52b34_8248_11ea_ab3d_00f48dba4e11row1_col2 {\n",
       "            background-color:  #3b4cc0;\n",
       "            color:  #f1f1f1;\n",
       "        }    #T_97c52b34_8248_11ea_ab3d_00f48dba4e11row2_col0 {\n",
       "            background-color:  #dfdbd9;\n",
       "            color:  #000000;\n",
       "        }    #T_97c52b34_8248_11ea_ab3d_00f48dba4e11row2_col1 {\n",
       "            background-color:  #3b4cc0;\n",
       "            color:  #f1f1f1;\n",
       "        }    #T_97c52b34_8248_11ea_ab3d_00f48dba4e11row2_col2 {\n",
       "            background-color:  #b40426;\n",
       "            color:  #f1f1f1;\n",
       "        }</style><table id=\"T_97c52b34_8248_11ea_ab3d_00f48dba4e11\" ><thead>    <tr>        <th class=\"blank level0\" ></th>        <th class=\"col_heading level0 col0\" >Price</th>        <th class=\"col_heading level0 col1\" >Mileage</th>        <th class=\"col_heading level0 col2\" >Year</th>    </tr></thead><tbody>\n",
       "                <tr>\n",
       "                        <th id=\"T_97c52b34_8248_11ea_ab3d_00f48dba4e11level0_row0\" class=\"row_heading level0 row0\" >Price</th>\n",
       "                        <td id=\"T_97c52b34_8248_11ea_ab3d_00f48dba4e11row0_col0\" class=\"data row0 col0\" >1</td>\n",
       "                        <td id=\"T_97c52b34_8248_11ea_ab3d_00f48dba4e11row0_col1\" class=\"data row0 col1\" >-0.212439</td>\n",
       "                        <td id=\"T_97c52b34_8248_11ea_ab3d_00f48dba4e11row0_col2\" class=\"data row0 col2\" >0.405673</td>\n",
       "            </tr>\n",
       "            <tr>\n",
       "                        <th id=\"T_97c52b34_8248_11ea_ab3d_00f48dba4e11level0_row1\" class=\"row_heading level0 row1\" >Mileage</th>\n",
       "                        <td id=\"T_97c52b34_8248_11ea_ab3d_00f48dba4e11row1_col0\" class=\"data row1 col0\" >-0.212439</td>\n",
       "                        <td id=\"T_97c52b34_8248_11ea_ab3d_00f48dba4e11row1_col1\" class=\"data row1 col1\" >1</td>\n",
       "                        <td id=\"T_97c52b34_8248_11ea_ab3d_00f48dba4e11row1_col2\" class=\"data row1 col2\" >-0.3924</td>\n",
       "            </tr>\n",
       "            <tr>\n",
       "                        <th id=\"T_97c52b34_8248_11ea_ab3d_00f48dba4e11level0_row2\" class=\"row_heading level0 row2\" >Year</th>\n",
       "                        <td id=\"T_97c52b34_8248_11ea_ab3d_00f48dba4e11row2_col0\" class=\"data row2 col0\" >0.405673</td>\n",
       "                        <td id=\"T_97c52b34_8248_11ea_ab3d_00f48dba4e11row2_col1\" class=\"data row2 col1\" >-0.3924</td>\n",
       "                        <td id=\"T_97c52b34_8248_11ea_ab3d_00f48dba4e11row2_col2\" class=\"data row2 col2\" >1</td>\n",
       "            </tr>\n",
       "    </tbody></table>"
      ],
      "text/plain": [
       "<pandas.io.formats.style.Styler at 0x7ff34cc642b0>"
      ]
     },
     "metadata": {},
     "output_type": "display_data"
    },
    {
     "name": "stdout",
     "output_type": "stream",
     "text": [
      "Correlation from modified data\n"
     ]
    },
    {
     "data": {
      "text/html": [
       "<style  type=\"text/css\" >\n",
       "    #T_97c52b35_8248_11ea_ab3d_00f48dba4e11row0_col0 {\n",
       "            background-color:  #b40426;\n",
       "            color:  #f1f1f1;\n",
       "        }    #T_97c52b35_8248_11ea_ab3d_00f48dba4e11row0_col1 {\n",
       "            background-color:  #7295f4;\n",
       "            color:  #000000;\n",
       "        }    #T_97c52b35_8248_11ea_ab3d_00f48dba4e11row0_col2 {\n",
       "            background-color:  #f7ba9f;\n",
       "            color:  #000000;\n",
       "        }    #T_97c52b35_8248_11ea_ab3d_00f48dba4e11row0_col3 {\n",
       "            background-color:  #3b4cc0;\n",
       "            color:  #f1f1f1;\n",
       "        }    #T_97c52b35_8248_11ea_ab3d_00f48dba4e11row1_col0 {\n",
       "            background-color:  #3b4cc0;\n",
       "            color:  #f1f1f1;\n",
       "        }    #T_97c52b35_8248_11ea_ab3d_00f48dba4e11row1_col1 {\n",
       "            background-color:  #b40426;\n",
       "            color:  #f1f1f1;\n",
       "        }    #T_97c52b35_8248_11ea_ab3d_00f48dba4e11row1_col2 {\n",
       "            background-color:  #3b4cc0;\n",
       "            color:  #f1f1f1;\n",
       "        }    #T_97c52b35_8248_11ea_ab3d_00f48dba4e11row1_col3 {\n",
       "            background-color:  #4961d2;\n",
       "            color:  #f1f1f1;\n",
       "        }    #T_97c52b35_8248_11ea_ab3d_00f48dba4e11row2_col0 {\n",
       "            background-color:  #f0cdbb;\n",
       "            color:  #000000;\n",
       "        }    #T_97c52b35_8248_11ea_ab3d_00f48dba4e11row2_col1 {\n",
       "            background-color:  #3b4cc0;\n",
       "            color:  #f1f1f1;\n",
       "        }    #T_97c52b35_8248_11ea_ab3d_00f48dba4e11row2_col2 {\n",
       "            background-color:  #b40426;\n",
       "            color:  #f1f1f1;\n",
       "        }    #T_97c52b35_8248_11ea_ab3d_00f48dba4e11row2_col3 {\n",
       "            background-color:  #5b7ae5;\n",
       "            color:  #000000;\n",
       "        }    #T_97c52b35_8248_11ea_ab3d_00f48dba4e11row3_col0 {\n",
       "            background-color:  #88abfd;\n",
       "            color:  #000000;\n",
       "        }    #T_97c52b35_8248_11ea_ab3d_00f48dba4e11row3_col1 {\n",
       "            background-color:  #c0d4f5;\n",
       "            color:  #000000;\n",
       "        }    #T_97c52b35_8248_11ea_ab3d_00f48dba4e11row3_col2 {\n",
       "            background-color:  #ccd9ed;\n",
       "            color:  #000000;\n",
       "        }    #T_97c52b35_8248_11ea_ab3d_00f48dba4e11row3_col3 {\n",
       "            background-color:  #b40426;\n",
       "            color:  #f1f1f1;\n",
       "        }</style><table id=\"T_97c52b35_8248_11ea_ab3d_00f48dba4e11\" ><thead>    <tr>        <th class=\"blank level0\" ></th>        <th class=\"col_heading level0 col0\" >Price</th>        <th class=\"col_heading level0 col1\" >Mileage</th>        <th class=\"col_heading level0 col2\" >Year</th>        <th class=\"col_heading level0 col3\" >Make_Encoded</th>    </tr></thead><tbody>\n",
       "                <tr>\n",
       "                        <th id=\"T_97c52b35_8248_11ea_ab3d_00f48dba4e11level0_row0\" class=\"row_heading level0 row0\" >Price</th>\n",
       "                        <td id=\"T_97c52b35_8248_11ea_ab3d_00f48dba4e11row0_col0\" class=\"data row0 col0\" >1</td>\n",
       "                        <td id=\"T_97c52b35_8248_11ea_ab3d_00f48dba4e11row0_col1\" class=\"data row0 col1\" >-0.432317</td>\n",
       "                        <td id=\"T_97c52b35_8248_11ea_ab3d_00f48dba4e11row0_col2\" class=\"data row0 col2\" >0.40963</td>\n",
       "                        <td id=\"T_97c52b35_8248_11ea_ab3d_00f48dba4e11row0_col3\" class=\"data row0 col3\" >-0.0935743</td>\n",
       "            </tr>\n",
       "            <tr>\n",
       "                        <th id=\"T_97c52b35_8248_11ea_ab3d_00f48dba4e11level0_row1\" class=\"row_heading level0 row1\" >Mileage</th>\n",
       "                        <td id=\"T_97c52b35_8248_11ea_ab3d_00f48dba4e11row1_col0\" class=\"data row1 col0\" >-0.432317</td>\n",
       "                        <td id=\"T_97c52b35_8248_11ea_ab3d_00f48dba4e11row1_col1\" class=\"data row1 col1\" >1</td>\n",
       "                        <td id=\"T_97c52b35_8248_11ea_ab3d_00f48dba4e11row1_col2\" class=\"data row1 col2\" >-0.736671</td>\n",
       "                        <td id=\"T_97c52b35_8248_11ea_ab3d_00f48dba4e11row1_col3\" class=\"data row1 col3\" >-0.040907</td>\n",
       "            </tr>\n",
       "            <tr>\n",
       "                        <th id=\"T_97c52b35_8248_11ea_ab3d_00f48dba4e11level0_row2\" class=\"row_heading level0 row2\" >Year</th>\n",
       "                        <td id=\"T_97c52b35_8248_11ea_ab3d_00f48dba4e11row2_col0\" class=\"data row2 col0\" >0.40963</td>\n",
       "                        <td id=\"T_97c52b35_8248_11ea_ab3d_00f48dba4e11row2_col1\" class=\"data row2 col1\" >-0.736671</td>\n",
       "                        <td id=\"T_97c52b35_8248_11ea_ab3d_00f48dba4e11row2_col2\" class=\"data row2 col2\" >1</td>\n",
       "                        <td id=\"T_97c52b35_8248_11ea_ab3d_00f48dba4e11row2_col3\" class=\"data row2 col3\" >0.0250398</td>\n",
       "            </tr>\n",
       "            <tr>\n",
       "                        <th id=\"T_97c52b35_8248_11ea_ab3d_00f48dba4e11level0_row3\" class=\"row_heading level0 row3\" >Make_Encoded</th>\n",
       "                        <td id=\"T_97c52b35_8248_11ea_ab3d_00f48dba4e11row3_col0\" class=\"data row3 col0\" >-0.0935743</td>\n",
       "                        <td id=\"T_97c52b35_8248_11ea_ab3d_00f48dba4e11row3_col1\" class=\"data row3 col1\" >-0.040907</td>\n",
       "                        <td id=\"T_97c52b35_8248_11ea_ab3d_00f48dba4e11row3_col2\" class=\"data row3 col2\" >0.0250398</td>\n",
       "                        <td id=\"T_97c52b35_8248_11ea_ab3d_00f48dba4e11row3_col3\" class=\"data row3 col3\" >1</td>\n",
       "            </tr>\n",
       "    </tbody></table>"
      ],
      "text/plain": [
       "<pandas.io.formats.style.Styler at 0x7ff34d00bdd8>"
      ]
     },
     "metadata": {},
     "output_type": "display_data"
    }
   ],
   "source": [
    "corr = df[['Price', 'Mileage', 'Year']].corr()\n",
    "print('Correlation from original data')\n",
    "display(corr.style.background_gradient(cmap='coolwarm'))\n",
    "print('Correlation from modified data')\n",
    "corr = df_modified[['Price', 'Mileage', 'Year', 'Make_Encoded']].corr()\n",
    "display(corr.style.background_gradient(cmap='coolwarm'))"
   ]
  }
 ],
 "metadata": {
  "kernelspec": {
   "display_name": "Python 3",
   "language": "python",
   "name": "python3"
  },
  "language_info": {
   "codemirror_mode": {
    "name": "ipython",
    "version": 3
   },
   "file_extension": ".py",
   "mimetype": "text/x-python",
   "name": "python",
   "nbconvert_exporter": "python",
   "pygments_lexer": "ipython3",
   "version": "3.6.9"
  },
  "toc": {
   "base_numbering": 1,
   "nav_menu": {},
   "number_sections": true,
   "sideBar": true,
   "skip_h1_title": false,
   "title_cell": "Table of Contents",
   "title_sidebar": "Contents",
   "toc_cell": false,
   "toc_position": {},
   "toc_section_display": true,
   "toc_window_display": true
  }
 },
 "nbformat": 4,
 "nbformat_minor": 2
}
